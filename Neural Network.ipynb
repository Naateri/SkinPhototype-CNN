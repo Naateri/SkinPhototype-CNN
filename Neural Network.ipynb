{
 "cells": [
  {
   "cell_type": "code",
   "execution_count": 1,
   "metadata": {},
   "outputs": [],
   "source": [
    "import numpy as np\n",
    "import time\n",
    "import os\n",
    "import pandas as pd\n",
    "import cv2\n",
    "import matplotlib.pyplot as plt\n",
    "\n",
    "import tensorflow as tf\n",
    "from tensorflow import keras\n",
    "from tensorflow.keras.models import Sequential, save_model, load_model\n",
    "from tensorflow.keras.layers import Dense, Dropout, Embedding, Conv2D, MaxPool2D, Reshape, Concatenate, Flatten\n",
    "from tensorflow.keras.layers import Conv1D, MaxPooling1D, BatchNormalization\n",
    "from tensorflow.keras.optimizers import RMSprop\n",
    "from tensorflow.keras.constraints import max_norm\n",
    "from tensorflow.keras import datasets, layers, models\n",
    "from tensorflow.keras import backend as K\n",
    "\n",
    "from tensorflow.python.tools import freeze_graph\n",
    "from tensorflow.python.tools import optimize_for_inference_lib\n",
    "\n",
    "from tensorflow import lite"
   ]
  },
  {
   "cell_type": "code",
   "execution_count": 4,
   "metadata": {},
   "outputs": [],
   "source": [
    "# Folders\n",
    "# IMG_SIZE = (256, 256)\n",
    "# IMG_SIZE = (32,32)\n",
    "IMG_SIZE = (64, 64)\n",
    "folder = \"Fitzpatrick-imgs/\"\n",
    "pics = folder + \"fairface/fairface/\"\n",
    "\n",
    "train_pics = pics + \"train/\"\n",
    "test_pics = pics + \"val/\"\n",
    "\n",
    "all_pics = pics + \"all_pics/\"\n",
    "\n",
    "train_csv = folder + \"fitz_undersampled_train_final.csv\"\n",
    "test_csv = folder + \"fitz_undersampled_test_final.csv\""
   ]
  },
  {
   "cell_type": "code",
   "execution_count": 25,
   "metadata": {},
   "outputs": [
    {
     "data": {
      "text/plain": [
       "array(['I & II', 'III', 'IV', 'V', 'VI'], dtype=object)"
      ]
     },
     "execution_count": 25,
     "metadata": {},
     "output_type": "execute_result"
    }
   ],
   "source": [
    "# Dataframes\n",
    "# Columns: file (pic), age, gender, race, phototype\n",
    "df_train = pd.read_csv(train_csv)\n",
    "df_test = pd.read_csv(test_csv)\n",
    "\n",
    "labels = df_train[\"phototype\"].unique()\n",
    "labels = np.sort(labels)\n",
    "labels"
   ]
  },
  {
   "cell_type": "code",
   "execution_count": 4,
   "metadata": {},
   "outputs": [],
   "source": [
    "(train_images, train_labels), (test_images, test_labels) = datasets.cifar10.load_data()"
   ]
  },
  {
   "cell_type": "code",
   "execution_count": 210,
   "metadata": {},
   "outputs": [
    {
     "name": "stdout",
     "output_type": "stream",
     "text": [
      "64\n",
      "[[1]\n",
      " [3]\n",
      " [1]\n",
      " ...\n",
      " [4]\n",
      " [4]\n",
      " [4]]\n"
     ]
    },
    {
     "ename": "error",
     "evalue": "OpenCV(4.2.0) c:\\projects\\opencv-python\\opencv\\modules\\imgproc\\src\\color.simd_helpers.hpp:94: error: (-2:Unspecified error) in function '__cdecl cv::impl::`anonymous-namespace'::CvtHelper<struct cv::impl::`anonymous namespace'::Set<3,4,-1>,struct cv::impl::A0xe227985e::Set<3,4,-1>,struct cv::impl::A0xe227985e::Set<0,2,5>,2>::CvtHelper(const class cv::_InputArray &,const class cv::_OutputArray &,int)'\n> Unsupported depth of input image:\n>     'VDepth::contains(depth)'\n> where\n>     'depth' is 6 (CV_64F)\n",
     "output_type": "error",
     "traceback": [
      "\u001b[1;31m---------------------------------------------------------------------------\u001b[0m",
      "\u001b[1;31merror\u001b[0m                                     Traceback (most recent call last)",
      "\u001b[1;32m<ipython-input-210-d93b2095de65>\u001b[0m in \u001b[0;36m<module>\u001b[1;34m\u001b[0m\n\u001b[0;32m      2\u001b[0m \u001b[0mprint\u001b[0m\u001b[1;33m(\u001b[0m\u001b[0mlen\u001b[0m\u001b[1;33m(\u001b[0m\u001b[0mtrain_images\u001b[0m\u001b[1;33m[\u001b[0m\u001b[1;36m0\u001b[0m\u001b[1;33m]\u001b[0m\u001b[1;33m)\u001b[0m\u001b[1;33m)\u001b[0m\u001b[1;33m\u001b[0m\u001b[1;33m\u001b[0m\u001b[0m\n\u001b[0;32m      3\u001b[0m \u001b[0mprint\u001b[0m\u001b[1;33m(\u001b[0m\u001b[0mtrain_labels\u001b[0m\u001b[1;33m)\u001b[0m\u001b[1;33m\u001b[0m\u001b[1;33m\u001b[0m\u001b[0m\n\u001b[1;32m----> 4\u001b[1;33m \u001b[0mplt\u001b[0m\u001b[1;33m.\u001b[0m\u001b[0mimshow\u001b[0m\u001b[1;33m(\u001b[0m\u001b[0mcv2\u001b[0m\u001b[1;33m.\u001b[0m\u001b[0mcvtColor\u001b[0m\u001b[1;33m(\u001b[0m\u001b[0mtrain_images\u001b[0m\u001b[1;33m[\u001b[0m\u001b[1;36m0\u001b[0m\u001b[1;33m]\u001b[0m\u001b[1;33m,\u001b[0m\u001b[0mcv2\u001b[0m\u001b[1;33m.\u001b[0m\u001b[0mCOLOR_BGR2RGB\u001b[0m\u001b[1;33m)\u001b[0m\u001b[1;33m)\u001b[0m\u001b[1;33m\u001b[0m\u001b[1;33m\u001b[0m\u001b[0m\n\u001b[0m\u001b[0;32m      5\u001b[0m \u001b[0mplt\u001b[0m\u001b[1;33m.\u001b[0m\u001b[0mshow\u001b[0m\u001b[1;33m(\u001b[0m\u001b[1;33m)\u001b[0m\u001b[1;33m\u001b[0m\u001b[1;33m\u001b[0m\u001b[0m\n",
      "\u001b[1;31merror\u001b[0m: OpenCV(4.2.0) c:\\projects\\opencv-python\\opencv\\modules\\imgproc\\src\\color.simd_helpers.hpp:94: error: (-2:Unspecified error) in function '__cdecl cv::impl::`anonymous-namespace'::CvtHelper<struct cv::impl::`anonymous namespace'::Set<3,4,-1>,struct cv::impl::A0xe227985e::Set<3,4,-1>,struct cv::impl::A0xe227985e::Set<0,2,5>,2>::CvtHelper(const class cv::_InputArray &,const class cv::_OutputArray &,int)'\n> Unsupported depth of input image:\n>     'VDepth::contains(depth)'\n> where\n>     'depth' is 6 (CV_64F)\n"
     ]
    }
   ],
   "source": [
    "# print(train_images[0])\n",
    "print(len(train_images[0]))\n",
    "print(train_labels)\n",
    "plt.imshow(cv2.cvtColor(train_images[0],cv2.COLOR_BGR2RGB))\n",
    "plt.show()"
   ]
  },
  {
   "cell_type": "code",
   "execution_count": 159,
   "metadata": {},
   "outputs": [
    {
     "name": "stdout",
     "output_type": "stream",
     "text": [
      "III       7086\n",
      "IV        7086\n",
      "I & II    7086\n",
      "V         7086\n",
      "VI        7086\n",
      "Name: phototype, dtype: int64\n",
      "III       903\n",
      "IV        903\n",
      "VI        903\n",
      "I & II    903\n",
      "V         903\n",
      "Name: phototype, dtype: int64\n"
     ]
    },
    {
     "data": {
      "image/png": "[encoded data removed]",
      "text/plain": [
       "<Figure size 432x288 with 1 Axes>"
      ]
     },
     "metadata": {
      "needs_background": "light"
     },
     "output_type": "display_data"
    },
    {
     "name": "stdout",
     "output_type": "stream",
     "text": [
      "V\n"
     ]
    }
   ],
   "source": [
    "train_pics_files = df_train['file']\n",
    "train_pics_labels = df_train['phototype']\n",
    "print(train_pics_labels.value_counts())\n",
    "\n",
    "test_pics_files = df_test['file']\n",
    "test_pics_labels = df_test['phototype']\n",
    "print(test_pics_labels.value_counts())\n",
    "\n",
    "test_pic = train_pics + train_pics_files[4]\n",
    "\n",
    "image=cv2.imread(test_pic)\n",
    "image=cv2.resize(image, IMG_SIZE)\n",
    "plt.imshow(cv2.cvtColor(image,cv2.COLOR_BGR2RGB))\n",
    "plt.show()\n",
    "\n",
    "print(train_pics_labels[4])"
   ]
  },
  {
   "cell_type": "code",
   "execution_count": 211,
   "metadata": {},
   "outputs": [
    {
     "name": "stdout",
     "output_type": "stream",
     "text": [
      "Error at pic:  28544.jpg\n",
      "Error at pic:  31948.jpg\n",
      "Error at pic:  34114.jpg\n",
      "Error at pic:  47808.jpg\n",
      "Error at pic:  56453.jpg\n",
      "[0 1 0 ... 1 1 1]\n",
      "35425 35425\n"
     ]
    }
   ],
   "source": [
    "# Prepare train images\n",
    "\n",
    "train_images = list()\n",
    "train_labels = list()\n",
    "\n",
    "i = 0\n",
    "for file in train_pics_files:\n",
    "    cur_pic = all_pics + file\n",
    "    # if os.path.isfile(cur_pic): # Check if pic exists in files\n",
    "    try:\n",
    "        image=cv2.imread(cur_pic)\n",
    "        image=cv2.resize(image, IMG_SIZE)\n",
    "        train_images.append(image)\n",
    "\n",
    "        # train_labels.append(np.where(labels == train_pics_labels[i])[0])\n",
    "        # Making I, II, III and IV same cat\n",
    "        if train_pics_labels[i] in ['I & II', 'III', 'IV']:\n",
    "            train_labels.append(0)\n",
    "        else:\n",
    "            train_labels.append(1)\n",
    "    except:\n",
    "        print(\"Error at pic: \", file)\n",
    "    \n",
    "    i += 1\n",
    "\n",
    "train_images = np.array(train_images)\n",
    "train_images = train_images / 255.0\n",
    "\n",
    "train_labels = np.array(train_labels)\n",
    "print(train_labels)\n",
    "print(len(train_images), len(train_labels))"
   ]
  },
  {
   "cell_type": "code",
   "execution_count": 212,
   "metadata": {},
   "outputs": [
    {
     "name": "stdout",
     "output_type": "stream",
     "text": [
      "[0 0 0 ... 1 1 1]\n",
      "4515 4515\n"
     ]
    }
   ],
   "source": [
    "# Prepare test images\n",
    "test_images = list()\n",
    "test_labels = list()\n",
    "\n",
    "i = 0\n",
    "for file in test_pics_files:\n",
    "    cur_pic = all_pics + file\n",
    "    #if os.path.isfile(cur_pic): # Check if pic exists in files\n",
    "    try:\n",
    "        image=cv2.imread(cur_pic)\n",
    "        image=cv2.resize(image, IMG_SIZE)\n",
    "        test_images.append(image)\n",
    "        \n",
    "        # test_labels.append(np.where(labels == test_pics_labels[i])[0])\n",
    "        # Making I, II, III and IV same cat\n",
    "        if test_pics_labels[i] in ['I & II', 'III', 'IV']:\n",
    "            test_labels.append(0)\n",
    "        else:\n",
    "            test_labels.append(1)\n",
    "    except:\n",
    "        print(\"Error at pic: \", file)\n",
    "    \n",
    "    i += 1\n",
    "    \n",
    "test_images = np.array(test_images)\n",
    "test_images = test_images / 255.0\n",
    "\n",
    "test_labels = np.array(test_labels)\n",
    "print(test_labels)\n",
    "print(len(test_images), len(test_labels))"
   ]
  },
  {
   "cell_type": "code",
   "execution_count": 20,
   "metadata": {},
   "outputs": [],
   "source": [
    "def make_model(num_classes):\n",
    "    model = Sequential()\n",
    "    model.add(layers.Conv2D(32, (3, 3), activation='relu', input_shape=(32, 32, 3)))\n",
    "    model.add(layers.MaxPooling2D((2, 2)))\n",
    "    model.add(layers.Conv2D(64, (3, 3), activation='relu'))\n",
    "    model.add(layers.MaxPooling2D((2, 2)))\n",
    "    model.add(layers.Conv2D(64, (3, 3), activation='relu'))\n",
    "    model.add(layers.Flatten())\n",
    "    model.add(layers.Dense(64, activation='relu'))\n",
    "    model.add(layers.Dense(num_classes))\n",
    "    model.summary()\n",
    "    \n",
    "    return model"
   ]
  },
  {
   "cell_type": "code",
   "execution_count": 172,
   "metadata": {},
   "outputs": [],
   "source": [
    "def make_model2(num_classes):\n",
    "    model = Sequential()\n",
    "    model.add(layers.Conv2D(32, (3, 3), activation='relu', input_shape=(64, 64, 3)))\n",
    "    model.add(layers.MaxPooling2D((2, 2)))\n",
    "    model.add(layers.Conv2D(64, (3, 3), activation='relu'))\n",
    "    ######## V3 ###############\n",
    "    #model.add(layers.BatchNormalization())\n",
    "    model.add(layers.MaxPooling2D((2, 2)))\n",
    "    model.add(layers.Conv2D(64, (3, 3), activation='relu'))\n",
    "    model.add(layers.MaxPooling2D((2, 2)))\n",
    "    ###### V2 ##########\n",
    "    # model.add(layers.MaxPooling2D((5, 5)))\n",
    "    # model.add(layers.Conv2D(64, (5, 5), activation='relu'))\n",
    "    # model.add(layers.MaxPooling2D((2, 2)))\n",
    "    ######################################\n",
    "    \n",
    "    ###### V1 ############\n",
    "    # model.add(layers.Conv2D(64, (3, 3), activation='relu'))\n",
    "    # model.add(layers.MaxPooling2D((2, 2)))\n",
    "    # model.add(layers.Conv2D(64, (3, 3), activation='relu'))\n",
    "    ###################################\n",
    "    model.add(layers.Flatten())\n",
    "    model.add(layers.Dense(64, activation='relu'))\n",
    "    ######### V3 #################\n",
    "    model.add(layers.Dropout(0.2))\n",
    "    #############################\n",
    "    model.add(layers.Dense(num_classes, activation='sigmoid'))\n",
    "    model.summary()\n",
    "    \n",
    "    return model"
   ]
  },
  {
   "cell_type": "code",
   "execution_count": 214,
   "metadata": {},
   "outputs": [],
   "source": [
    "def make_binary_model():\n",
    "    model = Sequential()\n",
    "    model.add(layers.Conv2D(32, (3, 3), activation='relu', input_shape=(64, 64, 3)))\n",
    "    model.add(layers.MaxPooling2D((2, 2)))\n",
    "    model.add(layers.Conv2D(64, (3, 3), activation='relu'))\n",
    "    model.add(layers.MaxPooling2D((2, 2)))\n",
    "    model.add(layers.Conv2D(64, (3, 3), activation='relu'))\n",
    "    model.add(layers.MaxPooling2D((2, 2)))\n",
    "    model.add(layers.Flatten())\n",
    "    model.add(layers.Dense(64, activation='relu'))\n",
    "    model.add(layers.Dropout(0.2))\n",
    "    model.add(layers.Dense(1, activation='sigmoid'))\n",
    "    model.summary()\n",
    "    \n",
    "    return model"
   ]
  },
  {
   "cell_type": "code",
   "execution_count": 215,
   "metadata": {},
   "outputs": [
    {
     "name": "stdout",
     "output_type": "stream",
     "text": [
      "Model: \"sequential_20\"\n",
      "_________________________________________________________________\n",
      " Layer (type)                Output Shape              Param #   \n",
      "=================================================================\n",
      " conv2d_62 (Conv2D)          (None, 62, 62, 32)        896       \n",
      "                                                                 \n",
      " max_pooling2d_49 (MaxPoolin  (None, 31, 31, 32)       0         \n",
      " g2D)                                                            \n",
      "                                                                 \n",
      " conv2d_63 (Conv2D)          (None, 29, 29, 64)        18496     \n",
      "                                                                 \n",
      " max_pooling2d_50 (MaxPoolin  (None, 14, 14, 64)       0         \n",
      " g2D)                                                            \n",
      "                                                                 \n",
      " conv2d_64 (Conv2D)          (None, 12, 12, 64)        36928     \n",
      "                                                                 \n",
      " max_pooling2d_51 (MaxPoolin  (None, 6, 6, 64)         0         \n",
      " g2D)                                                            \n",
      "                                                                 \n",
      " flatten_19 (Flatten)        (None, 2304)              0         \n",
      "                                                                 \n",
      " dense_38 (Dense)            (None, 64)                147520    \n",
      "                                                                 \n",
      " dropout_6 (Dropout)         (None, 64)                0         \n",
      "                                                                 \n",
      " dense_39 (Dense)            (None, 1)                 65        \n",
      "                                                                 \n",
      "=================================================================\n",
      "Total params: 203,905\n",
      "Trainable params: 203,905\n",
      "Non-trainable params: 0\n",
      "_________________________________________________________________\n"
     ]
    }
   ],
   "source": [
    "# model = make_model2(len(labels))\n",
    "model = make_binary_model()"
   ]
  },
  {
   "cell_type": "code",
   "execution_count": 216,
   "metadata": {},
   "outputs": [
    {
     "name": "stdout",
     "output_type": "stream",
     "text": [
      "Epoch 1/20\n",
      "1108/1108 [==============================] - 55s 49ms/step - loss: 0.5887 - accuracy: 0.6937 - val_loss: 0.6759 - val_accuracy: 0.6496\n",
      "Epoch 2/20\n",
      "1108/1108 [==============================] - 56s 50ms/step - loss: 0.5313 - accuracy: 0.7388 - val_loss: 0.6779 - val_accuracy: 0.6554\n",
      "Epoch 3/20\n",
      "1108/1108 [==============================] - 54s 49ms/step - loss: 0.5064 - accuracy: 0.7552 - val_loss: 0.6875 - val_accuracy: 0.6605\n",
      "Epoch 4/20\n",
      "1108/1108 [==============================] - 54s 49ms/step - loss: 0.4886 - accuracy: 0.7669 - val_loss: 0.7812 - val_accuracy: 0.6565\n",
      "Epoch 5/20\n",
      "1108/1108 [==============================] - 54s 49ms/step - loss: 0.4732 - accuracy: 0.7748 - val_loss: 0.7943 - val_accuracy: 0.6478\n",
      "Epoch 6/20\n",
      "1108/1108 [==============================] - 54s 49ms/step - loss: 0.4625 - accuracy: 0.7832 - val_loss: 0.8381 - val_accuracy: 0.6591\n",
      "Epoch 7/20\n",
      "1108/1108 [==============================] - 55s 50ms/step - loss: 0.4510 - accuracy: 0.7877 - val_loss: 0.8378 - val_accuracy: 0.6633\n",
      "Epoch 8/20\n",
      "1108/1108 [==============================] - 55s 50ms/step - loss: 0.4355 - accuracy: 0.7979 - val_loss: 0.8964 - val_accuracy: 0.6611\n",
      "Epoch 9/20\n",
      "1108/1108 [==============================] - 54s 49ms/step - loss: 0.4215 - accuracy: 0.8056 - val_loss: 0.9563 - val_accuracy: 0.6598\n",
      "Epoch 10/20\n",
      "1108/1108 [==============================] - 54s 49ms/step - loss: 0.4090 - accuracy: 0.8118 - val_loss: 0.9117 - val_accuracy: 0.6611\n",
      "Epoch 11/20\n",
      "1108/1108 [==============================] - 54s 49ms/step - loss: 0.3952 - accuracy: 0.8185 - val_loss: 0.9978 - val_accuracy: 0.6578\n",
      "Epoch 12/20\n",
      "1108/1108 [==============================] - 55s 50ms/step - loss: 0.3799 - accuracy: 0.8257 - val_loss: 1.0245 - val_accuracy: 0.6501\n",
      "Epoch 13/20\n",
      "1108/1108 [==============================] - 56s 51ms/step - loss: 0.3683 - accuracy: 0.8339 - val_loss: 1.0400 - val_accuracy: 0.6571\n",
      "Epoch 14/20\n",
      "1108/1108 [==============================] - 57s 51ms/step - loss: 0.3496 - accuracy: 0.8397 - val_loss: 1.1246 - val_accuracy: 0.6529\n",
      "Epoch 15/20\n",
      "1108/1108 [==============================] - 58s 53ms/step - loss: 0.3321 - accuracy: 0.8500 - val_loss: 1.2773 - val_accuracy: 0.6538\n",
      "Epoch 16/20\n",
      "1108/1108 [==============================] - 59s 53ms/step - loss: 0.3182 - accuracy: 0.8546 - val_loss: 1.4240 - val_accuracy: 0.6594\n",
      "Epoch 17/20\n",
      "1108/1108 [==============================] - 57s 51ms/step - loss: 0.3014 - accuracy: 0.8627 - val_loss: 1.4740 - val_accuracy: 0.6551\n",
      "Epoch 18/20\n",
      "1108/1108 [==============================] - 59s 54ms/step - loss: 0.2869 - accuracy: 0.8708 - val_loss: 1.4862 - val_accuracy: 0.6578\n",
      "Epoch 19/20\n",
      "1108/1108 [==============================] - 58s 52ms/step - loss: 0.2751 - accuracy: 0.8745 - val_loss: 1.7381 - val_accuracy: 0.6583\n",
      "Epoch 20/20\n",
      "1108/1108 [==============================] - 58s 52ms/step - loss: 0.2635 - accuracy: 0.8810 - val_loss: 1.8128 - val_accuracy: 0.6450\n"
     ]
    },
    {
     "name": "stderr",
     "output_type": "stream",
     "text": [
      "WARNING:absl:Found untraced functions such as _jit_compiled_convolution_op, _jit_compiled_convolution_op, _jit_compiled_convolution_op while saving (showing 3 of 3). These functions will not be directly callable after loading.\n"
     ]
    },
    {
     "name": "stdout",
     "output_type": "stream",
     "text": [
      "INFO:tensorflow:Assets written to: CNN_64x64_bin_20epochs\\assets\n"
     ]
    },
    {
     "name": "stderr",
     "output_type": "stream",
     "text": [
      "INFO:tensorflow:Assets written to: CNN_64x64_bin_20epochs\\assets\n"
     ]
    }
   ],
   "source": [
    "# model.compile(optimizer='adam', loss='sparse_categorical_crossentropy', metrics=['accuracy'])\n",
    "model.compile(optimizer='adam', loss='binary_crossentropy', metrics=['accuracy'])\n",
    "\n",
    "history = model.fit(train_images, train_labels, epochs=20, \n",
    "                    validation_data=(test_images, test_labels))\n",
    "\n",
    "model.save(\"CNN_64x64_bin_20epochs\")"
   ]
  },
  {
   "cell_type": "code",
   "execution_count": 2,
   "metadata": {},
   "outputs": [],
   "source": [
    "model = load_model(\"CNN_64x64_bin_20epochs\")"
   ]
  },
  {
   "cell_type": "code",
   "execution_count": 6,
   "metadata": {},
   "outputs": [
    {
     "data": {
      "image/png": "[encoded data removed]",
      "text/plain": [
       "<Figure size 432x288 with 1 Axes>"
      ]
     },
     "metadata": {
      "needs_background": "light"
     },
     "output_type": "display_data"
    }
   ],
   "source": [
    "test_pic = \"test_pics/pic4.png\"\n",
    "image=cv2.imread(test_pic)\n",
    "image=cv2.resize(image, IMG_SIZE)\n",
    "plt.imshow(cv2.cvtColor(image,cv2.COLOR_BGR2RGB))\n",
    "plt.show()"
   ]
  },
  {
   "cell_type": "code",
   "execution_count": 7,
   "metadata": {},
   "outputs": [
    {
     "name": "stdout",
     "output_type": "stream",
     "text": [
      "1/1 [==============================] - 0s 187ms/step\n",
      "[[0.03706914]]\n",
      "I, II, III\n"
     ]
    }
   ],
   "source": [
    "image = np.array(image)\n",
    "image = image / 255.0\n",
    "p = model.predict(np.array([image]))\n",
    "print(p)\n",
    "if p[0] <= 0.5:\n",
    "    print(\"I, II, III\")\n",
    "else:\n",
    "    print(\"V, VI\")\n",
    "    \n",
    "if p[0] >= 0.40 and p[0] <= 0.70:\n",
    "    print(\"Posible IV, V\")"
   ]
  },
  {
   "cell_type": "code",
   "execution_count": 292,
   "metadata": {},
   "outputs": [
    {
     "name": "stderr",
     "output_type": "stream",
     "text": [
      "WARNING:absl:Found untraced functions such as _jit_compiled_convolution_op, _jit_compiled_convolution_op, _jit_compiled_convolution_op while saving (showing 3 of 3). These functions will not be directly callable after loading.\n"
     ]
    },
    {
     "name": "stdout",
     "output_type": "stream",
     "text": [
      "INFO:tensorflow:Assets written to: C:\\Users\\Renato\\AppData\\Local\\Temp\\tmpppdqjyil\\assets\n"
     ]
    },
    {
     "name": "stderr",
     "output_type": "stream",
     "text": [
      "INFO:tensorflow:Assets written to: C:\\Users\\Renato\\AppData\\Local\\Temp\\tmpppdqjyil\\assets\n"
     ]
    },
    {
     "data": {
      "text/plain": [
       "819876"
      ]
     },
     "execution_count": 292,
     "metadata": {},
     "output_type": "execute_result"
    }
   ],
   "source": [
    "converter = lite.TFLiteConverter.from_keras_model(model)\n",
    " \n",
    "tfmodel = converter.convert()\n",
    " \n",
    "open('fitzpatrick.tflite', 'wb').write(tfmodel)"
   ]
  },
  {
   "cell_type": "code",
   "execution_count": null,
   "metadata": {},
   "outputs": [],
   "source": [
    "# Extracted from https://github.com/llSourcell/A_Guide_to_Running_Tensorflow_Models_on_Android/blob/master/tensorflow_model/mnist_convnet_keras.py\n",
    "def export_model(saver, model, input_node_names, output_node_name):\n",
    "    tf.train.write_graph(K.get_session().graph_def, 'out', \\\n",
    "        MODEL_NAME + '_graph.pbtxt')\n",
    "\n",
    "    saver.save(K.get_session(), 'out/' + MODEL_NAME + '.chkp')\n",
    "\n",
    "    freeze_graph.freeze_graph('out/' + MODEL_NAME + '_graph.pbtxt', None, \\\n",
    "        False, 'out/' + MODEL_NAME + '.chkp', output_node_name, \\\n",
    "        \"save/restore_all\", \"save/Const:0\", \\\n",
    "        'out/frozen_' + MODEL_NAME + '.pb', True, \"\")\n",
    "\n",
    "    input_graph_def = tf.GraphDef()\n",
    "    with tf.gfile.Open('out/frozen_' + MODEL_NAME + '.pb', \"rb\") as f:\n",
    "        input_graph_def.ParseFromString(f.read())\n",
    "\n",
    "    output_graph_def = optimize_for_inference_lib.optimize_for_inference(\n",
    "            input_graph_def, input_node_names, [output_node_name],\n",
    "            tf.float32.as_datatype_enum)\n",
    "\n",
    "    with tf.gfile.FastGFile('out/opt_' + MODEL_NAME + '.pb', \"wb\") as f:\n",
    "        f.write(output_graph_def.SerializeToString())\n",
    "\n",
    "    print(\"graph saved!\")\n",
    "\n",
    "if not path.exists('out'):\n",
    "    os.mkdir('out')\n",
    "\n"
   ]
  }
 ],
 "metadata": {
  "kernelspec": {
   "display_name": "Python 3",
   "language": "python",
   "name": "python3"
  },
  "language_info": {
   "codemirror_mode": {
    "name": "ipython",
    "version": 3
   },
   "file_extension": ".py",
   "mimetype": "text/x-python",
   "name": "python",
   "nbconvert_exporter": "python",
   "pygments_lexer": "ipython3",
   "version": "3.8.0"
  }
 },
 "nbformat": 4,
 "nbformat_minor": 4
}
